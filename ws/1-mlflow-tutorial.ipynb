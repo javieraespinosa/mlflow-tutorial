{
 "cells": [
  {
   "cell_type": "markdown",
   "id": "3cb6d55b-c062-4263-a9a7-0ab89be23ac3",
   "metadata": {
    "tags": []
   },
   "source": [
    "# MLflow Training Tutorial\n",
    "\n",
    "This example predicts the quality of wine using [sklearn.linear_model.ElasticNet](http://scikit-learn.org/stable/modules/generated/sklearn.linear_model.ElasticNet.html).  \n",
    "\n",
    "> This example is based on the `examples/sklearn_elasticnet_wine/train.ipynb` jupyter notebook\n",
    "\n",
    "Attribution\n",
    "* The data set used in this example is from http://archive.ics.uci.edu/ml/datasets/Wine+Quality\n",
    "* P. Cortez, A. Cerdeira, F. Almeida, T. Matos and J. Reis.\n",
    "* Modeling wine preferences by data mining from physicochemical properties. In Decision Support Systems, Elsevier, 47(4):547-553, 2009.\n"
   ]
  },
  {
   "cell_type": "markdown",
   "id": "094856ca-df56-445b-bf8a-fc257c97d279",
   "metadata": {},
   "source": [
    "## Training"
   ]
  },
  {
   "cell_type": "code",
   "execution_count": null,
   "id": "5ba93f9d-1e3d-4b5e-8bbb-8f631ded419e",
   "metadata": {},
   "outputs": [],
   "source": [
    "# Wine Quality Sample\n",
    "def train(in_alpha, in_l1_ratio):\n",
    "    import os\n",
    "    import warnings\n",
    "    import sys\n",
    "    \n",
    "    import pandas as pd\n",
    "    import numpy as np\n",
    "    from sklearn.metrics import mean_squared_error, mean_absolute_error, r2_score\n",
    "    from sklearn.model_selection import train_test_split\n",
    "    from sklearn.linear_model import ElasticNet\n",
    "    \n",
    "    import mlflow\n",
    "    import mlflow.sklearn\n",
    "    \n",
    "    import logging\n",
    "    logging.basicConfig(level=logging.WARN)\n",
    "    logger = logging.getLogger(__name__)\n",
    "    \n",
    "    def eval_metrics(actual, pred):\n",
    "        rmse = np.sqrt(mean_squared_error(actual, pred))\n",
    "        mae = mean_absolute_error(actual, pred)\n",
    "        r2 = r2_score(actual, pred)\n",
    "        return rmse, mae, r2\n",
    "    \n",
    "    \n",
    "    warnings.filterwarnings(\"ignore\")\n",
    "    np.random.seed(40)\n",
    "    \n",
    "    # Read the wine-quality csv file\n",
    "    csv_path = 'examples/sklearn_elasticnet_wine/winequality-red.csv'\n",
    "    data = pd.read_csv(csv_path, sep=';')\n",
    "    \n",
    "    # Split the data into training and test sets. (0.75, 0.25) split.\n",
    "    train, test = train_test_split(data)\n",
    "    \n",
    "    # The predicted column is \"quality\" which is a scalar from [3, 9]\n",
    "    train_x = train.drop([\"quality\"], axis=1)\n",
    "    test_x = test.drop([\"quality\"], axis=1)\n",
    "    train_y = train[[\"quality\"]]\n",
    "    test_y = test[[\"quality\"]]\n",
    "    \n",
    "    # Set default values if no alpha is provided\n",
    "    if float(in_alpha) is None:\n",
    "        alpha = 0.5\n",
    "    else:\n",
    "        alpha = float(in_alpha)\n",
    "    \n",
    "    # Set default values if no l1_ratio is provided\n",
    "    if float(in_l1_ratio) is None:\n",
    "        l1_ratio = 0.5\n",
    "    else:\n",
    "        l1_ratio = float(in_l1_ratio)\n",
    "    \n",
    "    # Useful for multiple runs (only doing one run in this example)    \n",
    "    with mlflow.start_run():\n",
    "        # Execute ElasticNet\n",
    "        lr = ElasticNet(alpha=alpha, l1_ratio=l1_ratio, random_state=42)\n",
    "        lr.fit(train_x, train_y)\n",
    "        \n",
    "        # Evaluate Metrics\n",
    "        predicted_qualities = lr.predict(test_x)\n",
    "        (rmse, mae, r2) = eval_metrics(test_y, predicted_qualities)\n",
    "        \n",
    "        # Print out metrics\n",
    "        print(\"Elasticnet model (alpha=%f, l1_ratio=%f):\" % (alpha, l1_ratio))\n",
    "        print(\"  RMSE: %s\" % rmse)\n",
    "        print(\"  MAE: %s\" % mae)\n",
    "        print(\"  R2: %s\" % r2)\n",
    "        \n",
    "        # Log parameter, metrics, and model to MLflow\n",
    "        mlflow.log_param(\"alpha\", alpha)\n",
    "        mlflow.log_param(\"l1_ratio\", l1_ratio)\n",
    "        mlflow.log_metric(\"rmse\", rmse)\n",
    "        mlflow.log_metric(\"r2\", r2)\n",
    "        mlflow.log_metric(\"mae\", mae)\n",
    "        \n",
    "        mlflow.sklearn.log_model(lr, \"model\")"
   ]
  },
  {
   "cell_type": "code",
   "execution_count": null,
   "id": "18539cda-62f1-46a6-ac4e-26348b7b4b06",
   "metadata": {},
   "outputs": [],
   "source": [
    "train(0.5, 0.5)"
   ]
  },
  {
   "cell_type": "code",
   "execution_count": null,
   "id": "e454bad9-7652-4800-9a5b-3da0a3e876c7",
   "metadata": {},
   "outputs": [],
   "source": [
    "train(0.2, 0.2)"
   ]
  },
  {
   "cell_type": "code",
   "execution_count": null,
   "id": "129d0e7b-c55b-44ed-b92e-927fd53b3d07",
   "metadata": {},
   "outputs": [],
   "source": [
    "train(0.1, 0.1)"
   ]
  },
  {
   "cell_type": "markdown",
   "id": "962e1546",
   "metadata": {},
   "source": [
    "## Visualizing Experiment Runs"
   ]
  },
  {
   "cell_type": "markdown",
   "id": "231ef080",
   "metadata": {
    "vscode": {
     "languageId": "shellscript"
    }
   },
   "source": [
    "**Execute in a Jupyter terminal**\n",
    "\n",
    "```sh\n",
    "mlflow ui --host 0.0.0.0\n",
    "```\n",
    "Visit http://localhost:5000\n"
   ]
  },
  {
   "cell_type": "markdown",
   "id": "d0d59611",
   "metadata": {},
   "source": [
    "## Packing the Model\n",
    "\n",
    "**Execute in a Jupyter Terminal**\n",
    "\n",
    "* Activate the conda environement (include in the docker image):\n",
    "\n",
    "```sh\n",
    "conda activate sklearn_example\n",
    "```\n",
    "\n",
    "* Test the MLFlow project\n",
    "\n",
    "```sh\n",
    "cd /ws\n",
    "mlflow run --env-manager=local examples/sklearn_elasticnet_wine\n",
    "```"
   ]
  },
  {
   "cell_type": "markdown",
   "id": "bdcaf1f0-b4d2-4644-9c83-e08b81615192",
   "metadata": {},
   "source": [
    "## Serving the Model"
   ]
  },
  {
   "cell_type": "markdown",
   "id": "6e4a36a2-c196-4e73-a7a1-b03d097aa596",
   "metadata": {},
   "source": [
    "* Deploy model as web service\n",
    "\n",
    "```sh\n",
    "RUN_ID=f4b2aa55b3224494a339177da4961aee     # REPLACE WITH YOUR RUN ID\n",
    "mlflow models serve  --env-manager=local -m file:///ws/mlruns/0/${RUN_ID}/artifacts/model -p 1234\n",
    "```"
   ]
  },
  {
   "cell_type": "markdown",
   "id": "bc54cba6-c2a7-4ee7-96e5-c53c33ba590e",
   "metadata": {},
   "source": [
    "* Predict wine quality via web service\n",
    "\n",
    "```json\n",
    "{\n",
    "    \"columns\": [\n",
    "        \"alcohol\", \n",
    "        \"chlorides\", \n",
    "        \"citric acid\", \n",
    "        \"density\", \n",
    "        \"fixed acidity\", \n",
    "        \"free sulfur dioxide\", \n",
    "        \"pH\", \n",
    "        \"residual sugar\", \n",
    "        \"sulphates\", \n",
    "        \"total sulfur dioxide\", \n",
    "        \"volatile acidity\"\n",
    "    ],\n",
    "    \"data\":[\n",
    "        [12.8, 0.029, 0.48, 0.98, 6.2, 29, 3.33, 1.2, 0.39, 75, 0.66]\n",
    "    ]\n",
    "}\n",
    "```"
   ]
  },
  {
   "cell_type": "code",
   "execution_count": null,
   "id": "e448a7ca-6682-4a9c-82d8-97a3573f1390",
   "metadata": {},
   "outputs": [],
   "source": [
    "!curl  \\\n",
    "    -X \\\n",
    "    POST http://127.0.0.1:1234/invocations  \\\n",
    "    -H \"Content-Type:application/json; format=pandas-split\" \\\n",
    "    --data '{\"columns\":[\"alcohol\", \"chlorides\", \"citric acid\", \"density\", \"fixed acidity\", \"free sulfur dioxide\", \"pH\", \"residual sugar\", \"sulphates\", \"total sulfur dioxide\", \"volatile acidity\"],\"data\":[[12.8, 0.029, 0.48, 0.98, 6.2, 29, 3.33, 1.2, 0.39, 75, 0.66]]}'"
   ]
  },
  {
   "cell_type": "code",
   "execution_count": null,
   "id": "a403e2a9-c37c-4e0d-9194-b4c5b3354774",
   "metadata": {},
   "outputs": [],
   "source": []
  }
 ],
 "metadata": {
  "kernelspec": {
   "display_name": "Python 3 (ipykernel)",
   "language": "python",
   "name": "python3"
  },
  "language_info": {
   "codemirror_mode": {
    "name": "ipython",
    "version": 3
   },
   "file_extension": ".py",
   "mimetype": "text/x-python",
   "name": "python",
   "nbconvert_exporter": "python",
   "pygments_lexer": "ipython3",
   "version": "3.10.4"
  }
 },
 "nbformat": 4,
 "nbformat_minor": 5
}
