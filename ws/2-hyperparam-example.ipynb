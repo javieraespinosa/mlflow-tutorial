{
 "cells": [
  {
   "cell_type": "markdown",
   "id": "29f4ae7b-f742-4985-b943-9527e37d6c47",
   "metadata": {
    "tags": []
   },
   "source": [
    "\n",
    "# Deep Learning Hyperparameter Tuning\n",
    "\n",
    "The following examples tries to optimize the RMSE (Root Mean Squared Error) metric of a **Keras deep learning model** on the wine quality dataset. Two hyperparameteres are optimized `learning-rate` and `momentum`.\n",
    "\n",
    "## Example 1: [Simple training](examples/hyperparam/train.py)\n",
    "\n",
    "The input dataset is split into 3 parts: \n",
    "\n",
    "* train (~ 0.56)\n",
    "* validation(~ 0.19) \n",
    "* test (0.25)\n",
    "\n",
    "The datasets are used as follow:\n",
    "\n",
    "* The training dataset is used to fit the model.\n",
    "* The validation dataset is used to select the best hyperparameter values.\n",
    "* The test dataset is used to evaluate expected performance and to verify that the model does not overfit on the particular training + validation combination.\n",
    "\n",
    "\n",
    "**Execute in a jupyter terminal**\n",
    "```sh\n",
    "conda activate hyperparam_example\n",
    "\n",
    "cd /ws\n",
    "\n",
    "mlflow experiments create -n hyper_param_runs\n",
    "\n",
    "mlflow run -e train --experiment-id 1  --env-manager=local examples/hyperparam/\n",
    "```\n",
    "\n",
    "## Example 2: [Hyperparameter search using Hyperopt](examples/hyperparam/search_hyperopt.py)\n",
    "\n",
    "```sh\n",
    "cd /ws\n",
    "mlflow run -e hyperopt --experiment-id 1  --env-manager=local examples/hyperparam/\n",
    "```\n"
   ]
  },
  {
   "cell_type": "code",
   "execution_count": null,
   "id": "17f5f473-92c8-43f5-aa1b-229df4ee351b",
   "metadata": {},
   "outputs": [],
   "source": []
  }
 ],
 "metadata": {
  "kernelspec": {
   "display_name": "Python 3 (ipykernel)",
   "language": "python",
   "name": "python3"
  },
  "language_info": {
   "codemirror_mode": {
    "name": "ipython",
    "version": 3
   },
   "file_extension": ".py",
   "mimetype": "text/x-python",
   "name": "python",
   "nbconvert_exporter": "python",
   "pygments_lexer": "ipython3",
   "version": "3.10.4"
  }
 },
 "nbformat": 4,
 "nbformat_minor": 5
}
